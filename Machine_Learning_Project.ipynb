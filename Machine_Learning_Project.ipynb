{
  "nbformat": 4,
  "nbformat_minor": 0,
  "metadata": {
    "colab": {
      "provenance": []
    },
    "kernelspec": {
      "name": "python3",
      "display_name": "Python 3"
    },
    "language_info": {
      "name": "python"
    }
  },
  "cells": [
    {
      "cell_type": "markdown",
      "source": [
        "# **Overall Project Summary**\n",
        "\n",
        "Project 1: AI-Powered Customer Feedback Analyzer (NLP, Transformers, Scikit-learn)\n",
        "\n",
        "Project 2: LLM-Powered Summarization Tool (LLM API, Google Gemini)\n",
        "\n",
        "Project 3: Logistic Regression Classifier (Core ML, Scikit-learn, Evaluation)\n",
        "\n",
        "Project 4: Compare Classification Models (SVM, RF, GB) (Model Selection, Scikit-learn)\n",
        "\n",
        "Project 5ai (TF): MNIST Neural Network (Deep Learning, TensorFlow/Keras)\n",
        "\n",
        "Project 5aii (PyTorch): MNIST Neural Network (Deep Learning, PyTorch)\n",
        "\n",
        "Project 5b: OpenCV (Image Processing, OpenCV)"
      ],
      "metadata": {
        "id": "JUz6z7c0fhtZ"
      }
    },
    {
      "cell_type": "markdown",
      "source": [
        "# **Project 1** - Sentimental analysis and keyword extraction (Feedback Analyzer)"
      ],
      "metadata": {
        "id": "YGJ_HQ0A1KzW"
      }
    },
    {
      "cell_type": "code",
      "execution_count": 8,
      "metadata": {
        "id": "JpaRuDyduGaV"
      },
      "outputs": [],
      "source": [
        "!pip install pandas --quiet\n",
        "!pip install transformers[sentencepiece] --quiet\n",
        "!pip install scikit-learn --quiet"
      ]
    },
    {
      "cell_type": "markdown",
      "source": [
        "**Sample customer reviews**"
      ],
      "metadata": {
        "id": "q1tVTdsyxHgh"
      }
    },
    {
      "cell_type": "code",
      "source": [
        "reviews_data = [\n",
        "    \"The interface is very intuitive and easy to use! Loved the new features.\",\n",
        "    \"Customer support was slow and unhelpful, took days to resolve my issue.\",\n",
        "    \"It's an okay product, does the job but nothing special. Crashes sometimes.\",\n",
        "    \"Absolutely fantastic experience, exceeded my expectations. Highly recommend.\",\n",
        "    \"The setup process was confusing and poorly documented.\"\n",
        "]\n",
        "\n",
        "print(f\"Loaded {len(reviews_data)} reviews.\")"
      ],
      "metadata": {
        "colab": {
          "base_uri": "https://localhost:8080/"
        },
        "id": "stOTBNJWvP6P",
        "outputId": "8c508bfa-43d6-48dc-8630-856c932ba96c"
      },
      "execution_count": 9,
      "outputs": [
        {
          "output_type": "stream",
          "name": "stdout",
          "text": [
            "Loaded 5 reviews.\n"
          ]
        }
      ]
    },
    {
      "cell_type": "markdown",
      "source": [
        "**Main Project Code**"
      ],
      "metadata": {
        "id": "YnTGw1Ui1V1S"
      }
    },
    {
      "cell_type": "markdown",
      "source": [
        "Sentimental Analysis"
      ],
      "metadata": {
        "id": "ib2aLPcX1zPP"
      }
    },
    {
      "cell_type": "code",
      "source": [
        "from transformers import pipeline\n",
        "import pandas as pd\n",
        "print(\"Loading sentiment analysis model...\")\n",
        "sentiment_pipeline = pipeline(\"sentiment-analysis\", model=\"distilbert-base-uncased-finetuned-sst-2-english\")\n",
        "print(\"Sentiment analysis model loaded.\")\n",
        "\n",
        "def analyze_sentiment(text):\n",
        "  \"\"\"Analyzes the sentiment of a given text.\"\"\"\n",
        "  if not text or not isinstance(text, str):\n",
        "      return {'label': 'INVALID', 'score': 0.0}\n",
        "  try:\n",
        "      results = sentiment_pipeline(text)\n",
        "      return results[0]\n",
        "  except Exception as e:\n",
        "      print(f\"Error during sentiment analysis for text: {text} - {e}\")\n",
        "      return {'label': 'ERROR', 'score': 0.0}\n",
        "\n",
        "print(\"\\n--- Testing Sentiment Analysis ---\")\n",
        "if reviews_data:\n",
        "  test_sentiment = analyze_sentiment(reviews_data[0])\n",
        "  print(f\"Review: \\\"{reviews_data[0]}\\\"\")\n",
        "  print(f\"Sentiment: {test_sentiment['label']} (Score: {test_sentiment['score']:.4f})\")\n",
        "else:\n",
        "  print(\"No reviews data to test.\")"
      ],
      "metadata": {
        "colab": {
          "base_uri": "https://localhost:8080/"
        },
        "id": "3wYySTU2xUdd",
        "outputId": "88aa4eab-2347-49b3-d75f-51953683f12c"
      },
      "execution_count": 10,
      "outputs": [
        {
          "output_type": "stream",
          "name": "stdout",
          "text": [
            "Loading sentiment analysis model...\n"
          ]
        },
        {
          "output_type": "stream",
          "name": "stderr",
          "text": [
            "Device set to use cpu\n"
          ]
        },
        {
          "output_type": "stream",
          "name": "stdout",
          "text": [
            "Sentiment analysis model loaded.\n",
            "\n",
            "--- Testing Sentiment Analysis ---\n",
            "Review: \"The interface is very intuitive and easy to use! Loved the new features.\"\n",
            "Sentiment: POSITIVE (Score: 0.9998)\n"
          ]
        }
      ]
    },
    {
      "cell_type": "markdown",
      "source": [
        "Keyword Extraction"
      ],
      "metadata": {
        "id": "3rG9qhFV19_s"
      }
    },
    {
      "cell_type": "code",
      "source": [
        "from sklearn.feature_extraction.text import TfidfVectorizer\n",
        "import re\n",
        "\n",
        "tfidf_vectorizer = TfidfVectorizer(stop_words='english', max_features=5)\n",
        "\n",
        "def extract_keywords_tfidf(text_list):\n",
        "    \"\"\"\n",
        "    Extracts keywords from a list of text documents using TF-IDF.\n",
        "    Returns a dictionary where keys are review indices and values are lists of keywords.\n",
        "    \"\"\"\n",
        "    if not text_list or not isinstance(text_list, list):\n",
        "        print(\"Input must be a non-empty list of strings.\")\n",
        "        return {}\n",
        "\n",
        "    cleaned_list = [re.sub(r'[^a-z\\s]', '', text.lower()) for text in text_list]\n",
        "    valid_indices = [i for i, text in enumerate(cleaned_list) if text.strip()]\n",
        "    valid_texts = [text for text in cleaned_list if text.strip()]\n",
        "\n",
        "    if not valid_texts:\n",
        "        print(\"No valid text remaining after cleaning.\")\n",
        "        return {}\n",
        "\n",
        "    try:\n",
        "        tfidf_matrix = tfidf_vectorizer.fit_transform(valid_texts)\n",
        "        feature_names = tfidf_vectorizer.get_feature_names_out()\n",
        "\n",
        "        keywords_dict = {}\n",
        "        original_index_counter = 0\n",
        "        for i in range(len(valid_texts)):\n",
        "            feature_index = tfidf_matrix[i,:].nonzero()[1]\n",
        "            tfidf_scores = zip(feature_index, [tfidf_matrix[i, x] for x in feature_index])\n",
        "\n",
        "            sorted_scores = sorted(tfidf_scores, key=lambda x: x[1], reverse=True)\n",
        "            doc_keywords = [feature_names[idx] for idx, score in sorted_scores]\n",
        "\n",
        "            original_idx = valid_indices[original_index_counter]\n",
        "            keywords_dict[original_idx] = doc_keywords\n",
        "            original_index_counter += 1\n",
        "\n",
        "        return keywords_dict\n",
        "\n",
        "    except ValueError as e:\n",
        "        print(f\"Could not extract keywords (check input text complexity): {e}\")\n",
        "        return {\"Error\": f\"Could not process text for keywords: {e}\"}\n",
        "\n",
        "print(\"\\n--- Testing Keyword Extraction ---\")\n",
        "if reviews_data:\n",
        "  all_keywords = extract_keywords_tfidf(reviews_data)\n",
        "  print(\"Keywords found (keyed by original review index):\")\n",
        "  print(all_keywords)\n",
        "else:\n",
        "  print(\"No review data to extract keywords from.\")"
      ],
      "metadata": {
        "colab": {
          "base_uri": "https://localhost:8080/"
        },
        "id": "mDI6ejHLyge2",
        "outputId": "41f873c1-ca2d-41ce-f048-454b23e4dd66"
      },
      "execution_count": 11,
      "outputs": [
        {
          "output_type": "stream",
          "name": "stdout",
          "text": [
            "\n",
            "--- Testing Keyword Extraction ---\n",
            "Keywords found (keyed by original review index):\n",
            "{0: [], 1: ['customer', 'days'], 2: ['crashes'], 3: ['absolutely'], 4: ['confusing']}\n"
          ]
        }
      ]
    },
    {
      "cell_type": "markdown",
      "source": [
        "Combined keyword extraction and sentimental analysis for better review"
      ],
      "metadata": {
        "id": "Yv5ePghO2H86"
      }
    },
    {
      "cell_type": "code",
      "source": [
        "print(\"\\n--- Combined Analysis Results ---\")\n",
        "keywords_by_index = extract_keywords_tfidf(reviews_data)\n",
        "\n",
        "if not reviews_data:\n",
        "    print(\"No reviews to analyze.\")\n",
        "else:\n",
        "    for i, review in enumerate(reviews_data):\n",
        "        print(f\"\\nReview #{i+1}: \\\"{review}\\\"\")\n",
        "        sentiment_result = analyze_sentiment(review)\n",
        "        print(f\"  Sentiment: {sentiment_result['label']} (Score: {sentiment_result['score']:.4f})\")\n",
        "\n",
        "        review_keywords = keywords_by_index.get(i, [])\n",
        "        if review_keywords:\n",
        "            print(f\"  Keywords : {', '.join(review_keywords)}\")\n",
        "        else:\n",
        "            if isinstance(keywords_by_index, dict) and \"Error\" in keywords_by_index:\n",
        "                 print(f\"  Keywords : Error extracting keywords for the batch.\")\n",
        "            else:\n",
        "                 print(f\"  Keywords : None identified (or words too common).\")\n",
        "\n",
        "\n",
        "print(\"\\n--- Analysis Complete ---\")"
      ],
      "metadata": {
        "colab": {
          "base_uri": "https://localhost:8080/"
        },
        "id": "5Cm4OvVS0B_F",
        "outputId": "9893cf19-7a8d-475a-8813-9659c6ff1dfa"
      },
      "execution_count": 12,
      "outputs": [
        {
          "output_type": "stream",
          "name": "stdout",
          "text": [
            "\n",
            "--- Combined Analysis Results ---\n",
            "\n",
            "Review #1: \"The interface is very intuitive and easy to use! Loved the new features.\"\n",
            "  Sentiment: POSITIVE (Score: 0.9998)\n",
            "  Keywords : None identified (or words too common).\n",
            "\n",
            "Review #2: \"Customer support was slow and unhelpful, took days to resolve my issue.\"\n",
            "  Sentiment: NEGATIVE (Score: 0.9995)\n",
            "  Keywords : customer, days\n",
            "\n",
            "Review #3: \"It's an okay product, does the job but nothing special. Crashes sometimes.\"\n",
            "  Sentiment: NEGATIVE (Score: 0.9980)\n",
            "  Keywords : crashes\n",
            "\n",
            "Review #4: \"Absolutely fantastic experience, exceeded my expectations. Highly recommend.\"\n",
            "  Sentiment: POSITIVE (Score: 0.9999)\n",
            "  Keywords : absolutely\n",
            "\n",
            "Review #5: \"The setup process was confusing and poorly documented.\"\n",
            "  Sentiment: NEGATIVE (Score: 0.9998)\n",
            "  Keywords : confusing\n",
            "\n",
            "--- Analysis Complete ---\n"
          ]
        }
      ]
    },
    {
      "cell_type": "markdown",
      "source": [
        "# **Project 2**  -  LLM-Powered Summarization Tool"
      ],
      "metadata": {
        "id": "4LJ1pcQd2dse"
      }
    },
    {
      "cell_type": "code",
      "source": [
        "!pip install -q google-generativeai"
      ],
      "metadata": {
        "id": "NQ2nJA-02jeS"
      },
      "execution_count": 13,
      "outputs": []
    },
    {
      "cell_type": "markdown",
      "source": [
        "Using gemini from google ai studio so it would be easy for anyone to test it"
      ],
      "metadata": {
        "id": "dBR_q8AR8H1x"
      }
    },
    {
      "cell_type": "code",
      "source": [
        "import google.generativeai as genai\n",
        "from google.colab import userdata\n",
        "\n",
        "try:\n",
        "  GOOGLE_API_KEY = userdata.get('GOOGLE_API_KEY')\n",
        "  genai.configure(api_key=GOOGLE_API_KEY)\n",
        "  print(\"Google AI SDK configured successfully.\")\n",
        "\n",
        "except Exception as e:\n",
        "  print(f\"Error configuring Google AI SDK: {e}\")\n",
        "  print(\"Please ensure you have added 'GOOGLE_API_KEY' to Colab Secrets and enabled Notebook access.\")\n",
        "  model = None"
      ],
      "metadata": {
        "colab": {
          "base_uri": "https://localhost:8080/"
        },
        "id": "Z4_Gbt124zDr",
        "outputId": "83dab2e5-fd07-405c-b0f9-65630e427ade"
      },
      "execution_count": 14,
      "outputs": [
        {
          "output_type": "stream",
          "name": "stdout",
          "text": [
            "Google AI SDK configured successfully.\n"
          ]
        }
      ]
    },
    {
      "cell_type": "markdown",
      "source": [
        "Defining the model and summarization function"
      ],
      "metadata": {
        "id": "C6CCs3tQFw5E"
      }
    },
    {
      "cell_type": "code",
      "source": [
        "model_name = \"gemini-1.5-flash-latest\"\n",
        "\n",
        "try:\n",
        "    model = genai.GenerativeModel(model_name)\n",
        "    print(f\"Using model: {model_name}\")\n",
        "\n",
        "    def summarize_text_gemini(text_to_summarize, max_length=100):\n",
        "        \"\"\"Generates a summary for the given text using the Gemini model.\"\"\"\n",
        "        if not text_to_summarize or not isinstance(text_to_summarize, str):\n",
        "            return \"Error: Invalid input text provided.\"\n",
        "\n",
        "        prompt = f\"\"\"Please summarize the following text concisely, aiming for roughly {max_length} words or less:\n",
        "\n",
        "        Text:\n",
        "        \\\"\\\"\\\"\n",
        "        {text_to_summarize}\n",
        "        \\\"\\\"\\\"\n",
        "\n",
        "        Summary:\n",
        "        \"\"\"\n",
        "\n",
        "        try:\n",
        "            response = model.generate_content(\n",
        "                prompt,\n",
        "                generation_config=genai.types.GenerationConfig(\n",
        "                    temperature=0.7\n",
        "                 )\n",
        "            )\n",
        "\n",
        "            if response.parts:\n",
        "                 summary = response.parts[0].text\n",
        "            else:\n",
        "                 summary = response.text\n",
        "            return summary.strip()\n",
        "\n",
        "        except Exception as e:\n",
        "            print(f\"An error occurred during API call: {e}\")\n",
        "            if hasattr(response, 'prompt_feedback') and response.prompt_feedback.block_reason:\n",
        "                 return f\"Error: Content blocked - Reason: {response.prompt_feedback.block_reason}\"\n",
        "            return f\"Error: Failed to generate summary. {e}\"\n",
        "\n",
        "    print(\"Summarization function defined.\")\n",
        "\n",
        "except Exception as e:\n",
        "    print(f\"Error initializing the model '{model_name}': {e}\")\n",
        "    def summarize_text_gemini(text_to_summarize, max_length=100):\n",
        "      return f\"Error: Model '{model_name}' could not be initialized. Check model name and API key.\"\n",
        "    print(\"Using dummy summarization function due to initialization error.\")"
      ],
      "metadata": {
        "colab": {
          "base_uri": "https://localhost:8080/"
        },
        "id": "vG80q8_25Qc7",
        "outputId": "9a69e2d6-7735-4992-e741-3a9cbbf856e7"
      },
      "execution_count": 15,
      "outputs": [
        {
          "output_type": "stream",
          "name": "stdout",
          "text": [
            "Using model: gemini-1.5-flash-latest\n",
            "Summarization function defined.\n"
          ]
        }
      ]
    },
    {
      "cell_type": "markdown",
      "source": [
        "Defining a sample text and testing summarization"
      ],
      "metadata": {
        "id": "NEBSaMD3F4Yv"
      }
    },
    {
      "cell_type": "code",
      "source": [
        "sample_text = \"\"\"\n",
        "Artificial intelligence (AI) is rapidly transforming various industries, from healthcare and finance to entertainment and transportation. Machine learning, a subset of AI, enables systems to learn from data, identify patterns, and make decisions with minimal human intervention. Natural Language Processing (NLP), another crucial branch, allows machines to understand, interpret, and generate human language, powering applications like chatbots and translation services. While the potential benefits of AI are immense, including increased efficiency, personalized experiences, and scientific breakthroughs, ethical considerations surrounding bias, privacy, and job displacement remain significant challenges that require careful navigation and regulation. Developing AI responsibly is paramount to ensuring its benefits are realized broadly and equitably across society.\n",
        "\"\"\"\n",
        "\n",
        "print(\"--- Testing Summarization ---\")\n",
        "print(f\"Original Text:\\n{sample_text}\\n\")\n",
        "\n",
        "summary = summarize_text_gemini(sample_text, max_length=50)\n",
        "\n",
        "print(f\"Generated Summary:\\n{summary}\")"
      ],
      "metadata": {
        "colab": {
          "base_uri": "https://localhost:8080/",
          "height": 176
        },
        "id": "YIioseOc8jsc",
        "outputId": "64fa4d69-4ba8-4ecc-dd74-f2e356ad2fdf"
      },
      "execution_count": 16,
      "outputs": [
        {
          "output_type": "stream",
          "name": "stdout",
          "text": [
            "--- Testing Summarization ---\n",
            "Original Text:\n",
            "\n",
            "Artificial intelligence (AI) is rapidly transforming various industries, from healthcare and finance to entertainment and transportation. Machine learning, a subset of AI, enables systems to learn from data, identify patterns, and make decisions with minimal human intervention. Natural Language Processing (NLP), another crucial branch, allows machines to understand, interpret, and generate human language, powering applications like chatbots and translation services. While the potential benefits of AI are immense, including increased efficiency, personalized experiences, and scientific breakthroughs, ethical considerations surrounding bias, privacy, and job displacement remain significant challenges that require careful navigation and regulation. Developing AI responsibly is paramount to ensuring its benefits are realized broadly and equitably across society.\n",
            "\n",
            "\n",
            "Generated Summary:\n",
            "AI, encompassing machine learning and natural language processing, revolutionizes industries by automating tasks and personalizing experiences.  While offering immense potential, ethical concerns about bias, privacy, and job displacement necessitate responsible development and regulation for equitable societal benefit.\n"
          ]
        }
      ]
    },
    {
      "cell_type": "markdown",
      "source": [
        "# **Project 3**  -  Logistic Regression"
      ],
      "metadata": {
        "id": "RbGJkNCf9Q26"
      }
    },
    {
      "cell_type": "code",
      "source": [
        "from sklearn.datasets import load_breast_cancer\n",
        "from sklearn.model_selection import train_test_split\n",
        "import pandas as pd\n",
        "\n",
        "print(\"\\n--- Project 3: Logistic Regression Model ---\")\n",
        "print(\"Step 1: Loading Breast Cancer Dataset...\")\n",
        "\n",
        "cancer_data = load_breast_cancer()\n",
        "\n",
        "df = pd.DataFrame(cancer_data.data, columns=cancer_data.feature_names)\n",
        "df['target'] = cancer_data.target\n",
        "\n",
        "print(\"\\nDataset Info:\")\n",
        "df.info()\n",
        "\n",
        "print(\"\\nFirst 5 rows of the dataset:\")\n",
        "print(df.head())\n",
        "\n",
        "print(\"\\nTarget variable distribution:\")\n",
        "print(df['target'].value_counts())\n",
        "print(f\"(Class names: {list(cancer_data.target_names)})\")\n",
        "\n",
        "print(\"\\nDataset loaded successfully.\")"
      ],
      "metadata": {
        "colab": {
          "base_uri": "https://localhost:8080/"
        },
        "id": "W2w5vKXC9cmb",
        "outputId": "621345d1-dc69-4a69-e2d0-e8950dceae31"
      },
      "execution_count": 17,
      "outputs": [
        {
          "output_type": "stream",
          "name": "stdout",
          "text": [
            "\n",
            "--- Project 3: Logistic Regression Model ---\n",
            "Step 1: Loading Breast Cancer Dataset...\n",
            "\n",
            "Dataset Info:\n",
            "<class 'pandas.core.frame.DataFrame'>\n",
            "RangeIndex: 569 entries, 0 to 568\n",
            "Data columns (total 31 columns):\n",
            " #   Column                   Non-Null Count  Dtype  \n",
            "---  ------                   --------------  -----  \n",
            " 0   mean radius              569 non-null    float64\n",
            " 1   mean texture             569 non-null    float64\n",
            " 2   mean perimeter           569 non-null    float64\n",
            " 3   mean area                569 non-null    float64\n",
            " 4   mean smoothness          569 non-null    float64\n",
            " 5   mean compactness         569 non-null    float64\n",
            " 6   mean concavity           569 non-null    float64\n",
            " 7   mean concave points      569 non-null    float64\n",
            " 8   mean symmetry            569 non-null    float64\n",
            " 9   mean fractal dimension   569 non-null    float64\n",
            " 10  radius error             569 non-null    float64\n",
            " 11  texture error            569 non-null    float64\n",
            " 12  perimeter error          569 non-null    float64\n",
            " 13  area error               569 non-null    float64\n",
            " 14  smoothness error         569 non-null    float64\n",
            " 15  compactness error        569 non-null    float64\n",
            " 16  concavity error          569 non-null    float64\n",
            " 17  concave points error     569 non-null    float64\n",
            " 18  symmetry error           569 non-null    float64\n",
            " 19  fractal dimension error  569 non-null    float64\n",
            " 20  worst radius             569 non-null    float64\n",
            " 21  worst texture            569 non-null    float64\n",
            " 22  worst perimeter          569 non-null    float64\n",
            " 23  worst area               569 non-null    float64\n",
            " 24  worst smoothness         569 non-null    float64\n",
            " 25  worst compactness        569 non-null    float64\n",
            " 26  worst concavity          569 non-null    float64\n",
            " 27  worst concave points     569 non-null    float64\n",
            " 28  worst symmetry           569 non-null    float64\n",
            " 29  worst fractal dimension  569 non-null    float64\n",
            " 30  target                   569 non-null    int64  \n",
            "dtypes: float64(30), int64(1)\n",
            "memory usage: 137.9 KB\n",
            "\n",
            "First 5 rows of the dataset:\n",
            "   mean radius  mean texture  mean perimeter  mean area  mean smoothness  \\\n",
            "0        17.99         10.38          122.80     1001.0          0.11840   \n",
            "1        20.57         17.77          132.90     1326.0          0.08474   \n",
            "2        19.69         21.25          130.00     1203.0          0.10960   \n",
            "3        11.42         20.38           77.58      386.1          0.14250   \n",
            "4        20.29         14.34          135.10     1297.0          0.10030   \n",
            "\n",
            "   mean compactness  mean concavity  mean concave points  mean symmetry  \\\n",
            "0           0.27760          0.3001              0.14710         0.2419   \n",
            "1           0.07864          0.0869              0.07017         0.1812   \n",
            "2           0.15990          0.1974              0.12790         0.2069   \n",
            "3           0.28390          0.2414              0.10520         0.2597   \n",
            "4           0.13280          0.1980              0.10430         0.1809   \n",
            "\n",
            "   mean fractal dimension  ...  worst texture  worst perimeter  worst area  \\\n",
            "0                 0.07871  ...          17.33           184.60      2019.0   \n",
            "1                 0.05667  ...          23.41           158.80      1956.0   \n",
            "2                 0.05999  ...          25.53           152.50      1709.0   \n",
            "3                 0.09744  ...          26.50            98.87       567.7   \n",
            "4                 0.05883  ...          16.67           152.20      1575.0   \n",
            "\n",
            "   worst smoothness  worst compactness  worst concavity  worst concave points  \\\n",
            "0            0.1622             0.6656           0.7119                0.2654   \n",
            "1            0.1238             0.1866           0.2416                0.1860   \n",
            "2            0.1444             0.4245           0.4504                0.2430   \n",
            "3            0.2098             0.8663           0.6869                0.2575   \n",
            "4            0.1374             0.2050           0.4000                0.1625   \n",
            "\n",
            "   worst symmetry  worst fractal dimension  target  \n",
            "0          0.4601                  0.11890       0  \n",
            "1          0.2750                  0.08902       0  \n",
            "2          0.3613                  0.08758       0  \n",
            "3          0.6638                  0.17300       0  \n",
            "4          0.2364                  0.07678       0  \n",
            "\n",
            "[5 rows x 31 columns]\n",
            "\n",
            "Target variable distribution:\n",
            "target\n",
            "1    357\n",
            "0    212\n",
            "Name: count, dtype: int64\n",
            "(Class names: [np.str_('malignant'), np.str_('benign')])\n",
            "\n",
            "Dataset loaded successfully.\n"
          ]
        }
      ]
    },
    {
      "cell_type": "code",
      "source": [
        "from sklearn.model_selection import train_test_split\n",
        "from sklearn.preprocessing import StandardScaler\n",
        "\n",
        "print(\"Step 2: Preparing Data (Splitting and Scaling)...\")\n",
        "\n",
        "X = df.drop('target', axis=1)\n",
        "y = df['target']\n",
        "\n",
        "X_train, X_test, y_train, y_test = train_test_split(X, y, test_size=0.3, random_state=42, stratify=y)\n",
        "\n",
        "print(f\"Training set shape: X_train={X_train.shape}, y_train={y_train.shape}\")\n",
        "print(f\"Testing set shape : X_test={X_test.shape}, y_test={y_test.shape}\")\n",
        "\n",
        "scaler = StandardScaler()\n",
        "\n",
        "scaler.fit(X_train)\n",
        "\n",
        "X_train_scaled = scaler.transform(X_train)\n",
        "X_test_scaled = scaler.transform(X_test)\n",
        "\n",
        "print(\"\\nFeatures scaled successfully.\")\n",
        "print(\"Example of first 5 scaled features for the first training sample:\")\n",
        "print(X_train_scaled[0, :5])\n",
        "\n",
        "print(\"\\nData preparation complete.\")"
      ],
      "metadata": {
        "colab": {
          "base_uri": "https://localhost:8080/"
        },
        "id": "r5UlGTDs-ue_",
        "outputId": "971fe038-6f8f-480f-ff76-80e2c259f65e"
      },
      "execution_count": 18,
      "outputs": [
        {
          "output_type": "stream",
          "name": "stdout",
          "text": [
            "Step 2: Preparing Data (Splitting and Scaling)...\n",
            "Training set shape: X_train=(398, 30), y_train=(398,)\n",
            "Testing set shape : X_test=(171, 30), y_test=(171,)\n",
            "\n",
            "Features scaled successfully.\n",
            "Example of first 5 scaled features for the first training sample:\n",
            "[-0.70982078 -0.258417   -0.63739619 -0.71199581  1.62843044]\n",
            "\n",
            "Data preparation complete.\n"
          ]
        }
      ]
    },
    {
      "cell_type": "code",
      "source": [
        "from sklearn.linear_model import LogisticRegression\n",
        "\n",
        "print(\"Step 3: Training the Logistic Regression Model...\")\n",
        "\n",
        "log_reg_model = LogisticRegression(random_state=42)\n",
        "\n",
        "log_reg_model.fit(X_train_scaled, y_train)\n",
        "\n",
        "print(\"Logistic Regression model trained successfully.\")"
      ],
      "metadata": {
        "colab": {
          "base_uri": "https://localhost:8080/"
        },
        "id": "WpujXfIZ_MH1",
        "outputId": "3102af6f-767d-46d1-9844-ab393578d6ef"
      },
      "execution_count": 19,
      "outputs": [
        {
          "output_type": "stream",
          "name": "stdout",
          "text": [
            "Step 3: Training the Logistic Regression Model...\n",
            "Logistic Regression model trained successfully.\n"
          ]
        }
      ]
    },
    {
      "cell_type": "code",
      "source": [
        "from sklearn.metrics import accuracy_score, confusion_matrix, classification_report\n",
        "\n",
        "print(\"Step 4: Evaluating the Model on the Test Set...\")\n",
        "\n",
        "y_pred = log_reg_model.predict(X_test_scaled)\n",
        "\n",
        "accuracy = accuracy_score(y_test, y_pred)\n",
        "conf_matrix = confusion_matrix(y_test, y_pred)\n",
        "class_report = classification_report(y_test, y_pred, target_names=cancer_data.target_names)\n",
        "\n",
        "print(f\"\\nAccuracy: {accuracy:.4f}\")\n",
        "\n",
        "print(\"\\nConfusion Matrix:\")\n",
        "print(conf_matrix)\n",
        "\n",
        "print(\"\\nClassification Report:\")\n",
        "print(class_report)\n",
        "\n",
        "print(\"\\nModel evaluation complete.\")"
      ],
      "metadata": {
        "colab": {
          "base_uri": "https://localhost:8080/"
        },
        "id": "Rc4wMdwp_YxK",
        "outputId": "06fa8293-be93-4890-ec90-a5b1f4804b0b"
      },
      "execution_count": 20,
      "outputs": [
        {
          "output_type": "stream",
          "name": "stdout",
          "text": [
            "Step 4: Evaluating the Model on the Test Set...\n",
            "\n",
            "Accuracy: 0.9883\n",
            "\n",
            "Confusion Matrix:\n",
            "[[ 63   1]\n",
            " [  1 106]]\n",
            "\n",
            "Classification Report:\n",
            "              precision    recall  f1-score   support\n",
            "\n",
            "   malignant       0.98      0.98      0.98        64\n",
            "      benign       0.99      0.99      0.99       107\n",
            "\n",
            "    accuracy                           0.99       171\n",
            "   macro avg       0.99      0.99      0.99       171\n",
            "weighted avg       0.99      0.99      0.99       171\n",
            "\n",
            "\n",
            "Model evaluation complete.\n"
          ]
        }
      ]
    },
    {
      "cell_type": "code",
      "source": [
        "import matplotlib.pyplot as plt\n",
        "import seaborn as sns\n",
        "\n",
        "print(\"Step 5 (Optional): Visualizing the Confusion Matrix...\")\n",
        "\n",
        "plt.figure(figsize=(6, 4))\n",
        "sns.heatmap(conf_matrix, annot=True, fmt='d', cmap='Blues',\n",
        "            xticklabels=cancer_data.target_names,\n",
        "            yticklabels=cancer_data.target_names)\n",
        "\n",
        "plt.xlabel('Predicted Label')\n",
        "plt.ylabel('True Label')\n",
        "plt.title('Confusion Matrix - Logistic Regression')\n",
        "plt.show()\n",
        "\n",
        "print(\"\\nVisualization complete.\")"
      ],
      "metadata": {
        "colab": {
          "base_uri": "https://localhost:8080/",
          "height": 462
        },
        "id": "WLh4d7xM_0u-",
        "outputId": "d398ed17-da95-4be1-869b-98e8af7007c0"
      },
      "execution_count": 21,
      "outputs": [
        {
          "output_type": "stream",
          "name": "stdout",
          "text": [
            "Step 5 (Optional): Visualizing the Confusion Matrix...\n"
          ]
        },
        {
          "output_type": "display_data",
          "data": {
            "text/plain": [
              "<Figure size 600x400 with 2 Axes>"
            ],
            "image/png": "[encoded data removed]"
          },
          "metadata": {}
        },
        {
          "output_type": "stream",
          "name": "stdout",
          "text": [
            "\n",
            "Visualization complete.\n"
          ]
        }
      ]
    },
    {
      "cell_type": "markdown",
      "source": [
        "# **Project 4** - Compare Classification Models\n",
        "\n"
      ],
      "metadata": {
        "id": "DBNLtYM6B1EY"
      }
    },
    {
      "cell_type": "markdown",
      "source": [
        "Support Vector Machine"
      ],
      "metadata": {
        "id": "EVXM1GgPG10_"
      }
    },
    {
      "cell_type": "code",
      "source": [
        "from sklearn.svm import SVC\n",
        "from sklearn.metrics import accuracy_score, classification_report, confusion_matrix\n",
        "import time\n",
        "\n",
        "print(\"\\n--- Project 4: Comparing Classification Models ---\")\n",
        "print(\"\\nModel 1: Support Vector Machine (SVM / SVC)...\")\n",
        "\n",
        "svm_model = SVC(random_state=42)\n",
        "\n",
        "start_time = time.time()\n",
        "svm_model.fit(X_train_scaled, y_train)\n",
        "train_time = time.time() - start_time\n",
        "print(f\"SVM training completed in {train_time:.4f} seconds.\")\n",
        "\n",
        "start_time = time.time()\n",
        "y_pred_svm = svm_model.predict(X_test_scaled)\n",
        "predict_time = time.time() - start_time\n",
        "print(f\"SVM prediction completed in {predict_time:.4f} seconds.\")\n",
        "\n",
        "accuracy_svm = accuracy_score(y_test, y_pred_svm)\n",
        "print(f\"\\nSVM Accuracy: {accuracy_svm:.4f}\")\n",
        "\n",
        "print(\"\\nSVM Classification Report:\")\n",
        "print(classification_report(y_test, y_pred_svm, target_names=cancer_data.target_names))\n",
        "\n",
        "model_results = {}\n",
        "try:\n",
        "    model_results['Logistic Regression'] = {'Accuracy': accuracy, 'Train Time': 'N/A', 'Predict Time': 'N/A'}\n",
        "except NameError:\n",
        "     model_results['Logistic Regression'] = {'Accuracy': 'Not Run', 'Train Time': 'N/A', 'Predict Time': 'N/A'}\n",
        "\n",
        "model_results['SVM'] = {'Accuracy': accuracy_svm, 'Train Time': train_time, 'Predict Time': predict_time}\n",
        "\n",
        "print(\"\\nSVM evaluation complete.\")"
      ],
      "metadata": {
        "colab": {
          "base_uri": "https://localhost:8080/"
        },
        "id": "3FKXt_9WB93D",
        "outputId": "4fe50672-0e69-4bd3-edc5-2f097ef158eb"
      },
      "execution_count": 22,
      "outputs": [
        {
          "output_type": "stream",
          "name": "stdout",
          "text": [
            "\n",
            "--- Project 4: Comparing Classification Models ---\n",
            "\n",
            "Model 1: Support Vector Machine (SVM / SVC)...\n",
            "SVM training completed in 0.0169 seconds.\n",
            "SVM prediction completed in 0.0030 seconds.\n",
            "\n",
            "SVM Accuracy: 0.9766\n",
            "\n",
            "SVM Classification Report:\n",
            "              precision    recall  f1-score   support\n",
            "\n",
            "   malignant       0.97      0.97      0.97        64\n",
            "      benign       0.98      0.98      0.98       107\n",
            "\n",
            "    accuracy                           0.98       171\n",
            "   macro avg       0.98      0.98      0.98       171\n",
            "weighted avg       0.98      0.98      0.98       171\n",
            "\n",
            "\n",
            "SVM evaluation complete.\n"
          ]
        }
      ]
    },
    {
      "cell_type": "markdown",
      "source": [
        "Random Forest"
      ],
      "metadata": {
        "id": "JiRgTUicG7eP"
      }
    },
    {
      "cell_type": "code",
      "source": [
        "from sklearn.ensemble import RandomForestClassifier\n",
        "import time\n",
        "\n",
        "print(\"\\nModel 2: Random Forest Classifier...\")\n",
        "\n",
        "rf_model = RandomForestClassifier(n_estimators=100, random_state=42)\n",
        "\n",
        "start_time = time.time()\n",
        "rf_model.fit(X_train_scaled, y_train)\n",
        "train_time = time.time() - start_time\n",
        "print(f\"Random Forest training completed in {train_time:.4f} seconds.\")\n",
        "\n",
        "start_time = time.time()\n",
        "y_pred_rf = rf_model.predict(X_test_scaled)\n",
        "predict_time = time.time() - start_time\n",
        "print(f\"Random Forest prediction completed in {predict_time:.4f} seconds.\")\n",
        "\n",
        "accuracy_rf = accuracy_score(y_test, y_pred_rf)\n",
        "print(f\"\\nRandom Forest Accuracy: {accuracy_rf:.4f}\")\n",
        "\n",
        "print(\"\\nRandom Forest Classification Report:\")\n",
        "print(classification_report(y_test, y_pred_rf, target_names=cancer_data.target_names))\n",
        "\n",
        "model_results['Random Forest'] = {'Accuracy': accuracy_rf, 'Train Time': train_time, 'Predict Time': predict_time}\n",
        "\n",
        "print(\"\\nRandom Forest evaluation complete.\")"
      ],
      "metadata": {
        "colab": {
          "base_uri": "https://localhost:8080/"
        },
        "id": "wUuMKddSCcgP",
        "outputId": "f9c98c12-2f57-44d1-afee-b09aff6c9f2f"
      },
      "execution_count": 23,
      "outputs": [
        {
          "output_type": "stream",
          "name": "stdout",
          "text": [
            "\n",
            "Model 2: Random Forest Classifier...\n",
            "Random Forest training completed in 0.2436 seconds.\n",
            "Random Forest prediction completed in 0.0087 seconds.\n",
            "\n",
            "Random Forest Accuracy: 0.9357\n",
            "\n",
            "Random Forest Classification Report:\n",
            "              precision    recall  f1-score   support\n",
            "\n",
            "   malignant       0.92      0.91      0.91        64\n",
            "      benign       0.94      0.95      0.95       107\n",
            "\n",
            "    accuracy                           0.94       171\n",
            "   macro avg       0.93      0.93      0.93       171\n",
            "weighted avg       0.94      0.94      0.94       171\n",
            "\n",
            "\n",
            "Random Forest evaluation complete.\n"
          ]
        }
      ]
    },
    {
      "cell_type": "markdown",
      "source": [
        "Gradient Boosting"
      ],
      "metadata": {
        "id": "TL1YHVhhHAJQ"
      }
    },
    {
      "cell_type": "code",
      "source": [
        "from sklearn.ensemble import GradientBoostingClassifier\n",
        "import time\n",
        "print(\"\\nModel 3: Gradient Boosting Classifier...\")\n",
        "\n",
        "gb_model = GradientBoostingClassifier(n_estimators=100, random_state=42)\n",
        "\n",
        "start_time = time.time()\n",
        "gb_model.fit(X_train_scaled, y_train)\n",
        "train_time = time.time() - start_time\n",
        "print(f\"Gradient Boosting training completed in {train_time:.4f} seconds.\")\n",
        "\n",
        "start_time = time.time()\n",
        "y_pred_gb = gb_model.predict(X_test_scaled)\n",
        "predict_time = time.time() - start_time\n",
        "print(f\"Gradient Boosting prediction completed in {predict_time:.4f} seconds.\")\n",
        "\n",
        "accuracy_gb = accuracy_score(y_test, y_pred_gb)\n",
        "print(f\"\\nGradient Boosting Accuracy: {accuracy_gb:.4f}\")\n",
        "\n",
        "print(\"\\nGradient Boosting Classification Report:\")\n",
        "print(classification_report(y_test, y_pred_gb, target_names=cancer_data.target_names))\n",
        "\n",
        "model_results['Gradient Boosting'] = {'Accuracy': accuracy_gb, 'Train Time': train_time, 'Predict Time': predict_time}\n",
        "\n",
        "print(\"\\nGradient Boosting evaluation complete.\")"
      ],
      "metadata": {
        "colab": {
          "base_uri": "https://localhost:8080/"
        },
        "id": "V-6Su6ZvCy4H",
        "outputId": "359c5ae8-99c7-4f49-9a33-ba5227ff9121"
      },
      "execution_count": 24,
      "outputs": [
        {
          "output_type": "stream",
          "name": "stdout",
          "text": [
            "\n",
            "Model 3: Gradient Boosting Classifier...\n",
            "Gradient Boosting training completed in 0.6339 seconds.\n",
            "Gradient Boosting prediction completed in 0.0014 seconds.\n",
            "\n",
            "Gradient Boosting Accuracy: 0.9415\n",
            "\n",
            "Gradient Boosting Classification Report:\n",
            "              precision    recall  f1-score   support\n",
            "\n",
            "   malignant       0.95      0.89      0.92        64\n",
            "      benign       0.94      0.97      0.95       107\n",
            "\n",
            "    accuracy                           0.94       171\n",
            "   macro avg       0.94      0.93      0.94       171\n",
            "weighted avg       0.94      0.94      0.94       171\n",
            "\n",
            "\n",
            "Gradient Boosting evaluation complete.\n"
          ]
        }
      ]
    },
    {
      "cell_type": "markdown",
      "source": [
        "Model Comparison Result"
      ],
      "metadata": {
        "id": "LVayChkhHFk2"
      }
    },
    {
      "cell_type": "code",
      "source": [
        "import pandas as pd\n",
        "\n",
        "print(\"\\n--- Project 4 Conclusion: Model Comparison ---\")\n",
        "\n",
        "results_df = pd.DataFrame.from_dict(model_results, orient='index')\n",
        "\n",
        "if 'Logistic Regression' in results_df.index:\n",
        "     if results_df.loc['Logistic Regression', 'Accuracy'] == 'Not Run' or pd.isna(results_df.loc['Logistic Regression', 'Accuracy']):\n",
        "         try:\n",
        "            results_df.loc['Logistic Regression', 'Accuracy'] = accuracy\n",
        "         except NameError:\n",
        "            results_df.loc['Logistic Regression', 'Accuracy'] = 0.9883\n",
        "     results_df.fillna('N/A', inplace=True)\n",
        "\n",
        "results_df = results_df.sort_values(by='Accuracy', ascending=False)\n",
        "\n",
        "print(\"\\nComparison of Model Performance (Breast Cancer Dataset):\")\n",
        "print(results_df)\n",
        "\n",
        "print(\"\\nNote: Performance can vary with different datasets, preprocessing, and hyperparameter tuning.\")\n",
        "print(\"For this specific setup, Logistic Regression and SVM showed the highest accuracy.\")\n",
        "\n",
        "print(\"\\n--- Project 4 Complete ---\")"
      ],
      "metadata": {
        "colab": {
          "base_uri": "https://localhost:8080/"
        },
        "id": "XLi-NyhGDMVf",
        "outputId": "16d1ae3c-0f91-46c8-a5d0-6f16dc07e4c4"
      },
      "execution_count": 25,
      "outputs": [
        {
          "output_type": "stream",
          "name": "stdout",
          "text": [
            "\n",
            "--- Project 4 Conclusion: Model Comparison ---\n",
            "\n",
            "Comparison of Model Performance (Breast Cancer Dataset):\n",
            "                     Accuracy Train Time Predict Time\n",
            "Logistic Regression  0.988304        N/A          N/A\n",
            "SVM                  0.976608   0.016908     0.002986\n",
            "Gradient Boosting    0.941520   0.633885     0.001387\n",
            "Random Forest        0.935673   0.243581     0.008748\n",
            "\n",
            "Note: Performance can vary with different datasets, preprocessing, and hyperparameter tuning.\n",
            "For this specific setup, Logistic Regression and SVM showed the highest accuracy.\n",
            "\n",
            "--- Project 4 Complete ---\n"
          ]
        }
      ]
    },
    {
      "cell_type": "markdown",
      "source": [
        "# **Project 5** -\n",
        "5a - TensorFlow and PyTorch\n",
        "\n",
        "5b - OpenCV"
      ],
      "metadata": {
        "id": "63dPfLJoDqwI"
      }
    },
    {
      "cell_type": "markdown",
      "source": [
        "## i) TensorFlow"
      ],
      "metadata": {
        "id": "sMpZHovNKO62"
      }
    },
    {
      "cell_type": "markdown",
      "source": [
        "Loading and Preparing MNIST Dataset"
      ],
      "metadata": {
        "id": "_lcYit8DHZN2"
      }
    },
    {
      "cell_type": "code",
      "source": [
        "import tensorflow as tf\n",
        "from tensorflow import keras\n",
        "from tensorflow.keras import layers\n",
        "import numpy as np\n",
        "import matplotlib.pyplot as plt\n",
        "\n",
        "print(\"\\n--- Project 5ai: Simple Neural Network with TensorFlow/Keras (MNIST) ---\")\n",
        "print(\"TensorFlow version:\", tf.__version__)\n",
        "\n",
        "print(\"\\nStep 1: Loading and Preparing MNIST Dataset...\")\n",
        "\n",
        "(x_train_mnist, y_train_mnist), (x_test_mnist, y_test_mnist) = keras.datasets.mnist.load_data()\n",
        "\n",
        "print(f\"MNIST Training data shape: x={x_train_mnist.shape}, y={y_train_mnist.shape}\")\n",
        "print(f\"MNIST Testing data shape : x={x_test_mnist.shape}, y={y_test_mnist.shape}\")\n",
        "\n",
        "x_train_mnist = x_train_mnist.astype(\"float32\") / 255.0\n",
        "x_test_mnist = x_test_mnist.astype(\"float32\") / 255.0\n",
        "\n",
        "x_train_flat = x_train_mnist.reshape(x_train_mnist.shape[0], -1)\n",
        "x_test_flat = x_test_mnist.reshape(x_test_mnist.shape[0], -1)\n",
        "print(f\"Flattened training data shape: {x_train_flat.shape}\")\n",
        "\n",
        "num_classes = 10\n",
        "y_train_cat = keras.utils.to_categorical(y_train_mnist, num_classes)\n",
        "y_test_cat = keras.utils.to_categorical(y_test_mnist, num_classes)\n",
        "print(f\"Example original label : {y_train_mnist[0]}\")\n",
        "print(f\"Example one-hot label: {y_train_cat[0]}\")\n",
        "\n",
        "print(\"\\nMNIST data loaded and prepared.\")\n",
        "\n",
        "plt.figure()\n",
        "plt.imshow(x_train_mnist[0], cmap='gray')\n",
        "plt.title(f\"Label: {y_train_mnist[0]}\")\n",
        "plt.colorbar()\n",
        "plt.grid(False)\n",
        "plt.show()"
      ],
      "metadata": {
        "colab": {
          "base_uri": "https://localhost:8080/",
          "height": 660
        },
        "id": "Vwtj-MkpDz9u",
        "outputId": "7a834a7e-0ec6-4ade-e291-31c07a4738ed"
      },
      "execution_count": 27,
      "outputs": [
        {
          "output_type": "stream",
          "name": "stdout",
          "text": [
            "\n",
            "--- Project 5: Simple Neural Network with TensorFlow/Keras (MNIST) ---\n",
            "TensorFlow version: 2.18.0\n",
            "\n",
            "Step 1: Loading and Preparing MNIST Dataset...\n",
            "MNIST Training data shape: x=(60000, 28, 28), y=(60000,)\n",
            "MNIST Testing data shape : x=(10000, 28, 28), y=(10000,)\n",
            "Flattened training data shape: (60000, 784)\n",
            "Example original label : 5\n",
            "Example one-hot label: [0. 0. 0. 0. 0. 1. 0. 0. 0. 0.]\n",
            "\n",
            "MNIST data loaded and prepared.\n"
          ]
        },
        {
          "output_type": "display_data",
          "data": {
            "text/plain": [
              "<Figure size 640x480 with 2 Axes>"
            ],
            "image/png": "[encoded data removed]"
          },
          "metadata": {}
        }
      ]
    },
    {
      "cell_type": "markdown",
      "source": [
        "Building the Dense Neural Network Model"
      ],
      "metadata": {
        "id": "csWWaS8yHiUQ"
      }
    },
    {
      "cell_type": "code",
      "source": [
        "import tensorflow as tf\n",
        "\n",
        "print(\"\\nStep 2: Building the Dense Neural Network Model...\")\n",
        "\n",
        "input_shape = (784,)\n",
        "num_classes = 10\n",
        "\n",
        "model_mnist = tf.keras.Sequential(\n",
        "    [\n",
        "        tf.keras.layers.Dense(128, activation=\"relu\", input_shape=input_shape, name=\"hidden_layer_1\"),\n",
        "        tf.keras.layers.Dense(64, activation=\"relu\", name=\"hidden_layer_2\"),\n",
        "        tf.keras.layers.Dense(num_classes, activation=\"softmax\", name=\"output_layer\"),\n",
        "    ],\n",
        "    name=\"simple_mnist_classifier\"\n",
        ")\n",
        "\n",
        "print(\"\\nModel Summary:\")\n",
        "model_mnist.summary()\n",
        "\n",
        "print(\"\\nModel built successfully.\")"
      ],
      "metadata": {
        "colab": {
          "base_uri": "https://localhost:8080/"
        },
        "id": "Eqs6mSOWEhqH",
        "outputId": "2da4355d-3cea-4635-f4bb-148f80f6f19a"
      },
      "execution_count": 30,
      "outputs": [
        {
          "output_type": "stream",
          "name": "stdout",
          "text": [
            "\n",
            "Step 2: Building the Dense Neural Network Model...\n",
            "\n",
            "Model Summary:\n",
            "Model: \"simple_mnist_classifier\"\n",
            "_________________________________________________________________\n",
            " Layer (type)                Output Shape              Param #   \n",
            "=================================================================\n",
            " hidden_layer_1 (Dense)      (None, 128)               100480    \n",
            "                                                                 \n",
            " hidden_layer_2 (Dense)      (None, 64)                8256      \n",
            "                                                                 \n",
            " output_layer (Dense)        (None, 10)                650       \n",
            "                                                                 \n",
            "=================================================================\n",
            "Total params: 109386 (427.29 KB)\n",
            "Trainable params: 109386 (427.29 KB)\n",
            "Non-trainable params: 0 (0.00 Byte)\n",
            "_________________________________________________________________\n",
            "\n",
            "Model built successfully.\n"
          ]
        }
      ]
    },
    {
      "cell_type": "markdown",
      "source": [
        "Compiling the model"
      ],
      "metadata": {
        "id": "oQLuIWPDHv_a"
      }
    },
    {
      "cell_type": "code",
      "source": [
        "print(\"\\nStep 3: Compiling the Model...\")\n",
        "\n",
        "model_mnist.compile(\n",
        "    loss=\"categorical_crossentropy\",\n",
        "    optimizer=\"adam\",\n",
        "    metrics=[\"accuracy\"]\n",
        ")\n",
        "\n",
        "print(\"Model compiled successfully.\")"
      ],
      "metadata": {
        "colab": {
          "base_uri": "https://localhost:8080/"
        },
        "id": "TTCGvA2YGu-o",
        "outputId": "4447a320-5a51-41be-f828-78a570a73505"
      },
      "execution_count": 31,
      "outputs": [
        {
          "output_type": "stream",
          "name": "stdout",
          "text": [
            "\n",
            "Step 3: Compiling the Model...\n",
            "Model compiled successfully.\n"
          ]
        }
      ]
    },
    {
      "cell_type": "markdown",
      "source": [
        "Training the Model"
      ],
      "metadata": {
        "id": "ULAaT80CIEud"
      }
    },
    {
      "cell_type": "code",
      "source": [
        "import time\n",
        "\n",
        "print(\"\\nStep 4: Training the Model...\")\n",
        "\n",
        "batch_size = 128\n",
        "epochs = 10\n",
        "\n",
        "start_time = time.time()\n",
        "\n",
        "history = model_mnist.fit(\n",
        "    x_train_flat,\n",
        "    y_train_cat,\n",
        "    batch_size=batch_size,\n",
        "    epochs=epochs,\n",
        "    validation_data=(x_test_flat, y_test_cat),\n",
        "    verbose=1\n",
        ")\n",
        "\n",
        "train_time_mnist = time.time() - start_time\n",
        "print(f\"\\nTraining completed in {train_time_mnist:.2f} seconds.\")\n",
        "\n",
        "print(\"\\nTraining history keys:\", history.history.keys())"
      ],
      "metadata": {
        "colab": {
          "base_uri": "https://localhost:8080/"
        },
        "id": "Bdse7TBPH-NI",
        "outputId": "636b8335-87ae-49ee-bb07-d75cd169ca4f"
      },
      "execution_count": 33,
      "outputs": [
        {
          "output_type": "stream",
          "name": "stdout",
          "text": [
            "\n",
            "Step 4: Training the Model...\n",
            "Epoch 1/10\n",
            "469/469 [==============================] - 3s 5ms/step - loss: 0.0169 - accuracy: 0.9948 - val_loss: 0.0778 - val_accuracy: 0.9776\n",
            "Epoch 2/10\n",
            "469/469 [==============================] - 2s 5ms/step - loss: 0.0134 - accuracy: 0.9958 - val_loss: 0.0883 - val_accuracy: 0.9772\n",
            "Epoch 3/10\n",
            "469/469 [==============================] - 2s 5ms/step - loss: 0.0135 - accuracy: 0.9959 - val_loss: 0.0937 - val_accuracy: 0.9762\n",
            "Epoch 4/10\n",
            "469/469 [==============================] - 3s 6ms/step - loss: 0.0122 - accuracy: 0.9960 - val_loss: 0.0889 - val_accuracy: 0.9774\n",
            "Epoch 5/10\n",
            "469/469 [==============================] - 3s 7ms/step - loss: 0.0096 - accuracy: 0.9972 - val_loss: 0.0977 - val_accuracy: 0.9767\n",
            "Epoch 6/10\n",
            "469/469 [==============================] - 2s 5ms/step - loss: 0.0082 - accuracy: 0.9973 - val_loss: 0.0877 - val_accuracy: 0.9794\n",
            "Epoch 7/10\n",
            "469/469 [==============================] - 2s 5ms/step - loss: 0.0111 - accuracy: 0.9963 - val_loss: 0.1011 - val_accuracy: 0.9774\n",
            "Epoch 8/10\n",
            "469/469 [==============================] - 2s 5ms/step - loss: 0.0096 - accuracy: 0.9967 - val_loss: 0.0974 - val_accuracy: 0.9774\n",
            "Epoch 9/10\n",
            "469/469 [==============================] - 3s 6ms/step - loss: 0.0070 - accuracy: 0.9977 - val_loss: 0.1040 - val_accuracy: 0.9768\n",
            "Epoch 10/10\n",
            "469/469 [==============================] - 3s 6ms/step - loss: 0.0078 - accuracy: 0.9975 - val_loss: 0.0912 - val_accuracy: 0.9804\n",
            "\n",
            "Training completed in 41.47 seconds.\n",
            "\n",
            "Training history keys: dict_keys(['loss', 'accuracy', 'val_loss', 'val_accuracy'])\n"
          ]
        }
      ]
    },
    {
      "cell_type": "markdown",
      "source": [
        "Evaluate the model using the test data"
      ],
      "metadata": {
        "id": "TrrLyqayI4TQ"
      }
    },
    {
      "cell_type": "code",
      "source": [
        "print(\"\\nStep 5: Evaluating the Model on the Test Set...\")\n",
        "\n",
        "score = model_mnist.evaluate(x_test_flat, y_test_cat, verbose=0)\n",
        "\n",
        "print(f\"Test loss    : {score[0]:.4f}\")\n",
        "print(f\"Test accuracy: {score[1]:.4f}\")\n",
        "\n",
        "plt.figure(figsize=(10, 4))\n",
        "plt.subplot(1, 2, 1)\n",
        "plt.plot(history.history['accuracy'])\n",
        "plt.plot(history.history['val_accuracy'])\n",
        "plt.title('Model accuracy')\n",
        "plt.ylabel('Accuracy')\n",
        "plt.xlabel('Epoch')\n",
        "plt.legend(['Train', 'Validation'], loc='upper left')\n",
        "\n",
        "plt.subplot(1, 2, 2)\n",
        "plt.plot(history.history['loss'])\n",
        "plt.plot(history.history['val_loss'])\n",
        "plt.title('Model loss')\n",
        "plt.ylabel('Loss')\n",
        "plt.xlabel('Epoch')\n",
        "plt.legend(['Train', 'Validation'], loc='upper left')\n",
        "\n",
        "plt.tight_layout()\n",
        "plt.show()\n",
        "\n",
        "print(\"\\n--- Project 5a (TensorFlow version) Complete ---\")"
      ],
      "metadata": {
        "colab": {
          "base_uri": "https://localhost:8080/",
          "height": 511
        },
        "id": "o2233UX6IyOu",
        "outputId": "ab99ca7f-ee85-4d08-ddcf-721f883a918b"
      },
      "execution_count": 57,
      "outputs": [
        {
          "output_type": "stream",
          "name": "stdout",
          "text": [
            "\n",
            "Step 5: Evaluating the Model on the Test Set...\n",
            "Test loss    : 0.0912\n",
            "Test accuracy: 0.9804\n"
          ]
        },
        {
          "output_type": "display_data",
          "data": {
            "text/plain": [
              "<Figure size 1000x400 with 2 Axes>"
            ],
            "image/png": "[encoded data removed]"
          },
          "metadata": {}
        },
        {
          "output_type": "stream",
          "name": "stdout",
          "text": [
            "\n",
            "--- Project 5a (TensorFlow version) Complete ---\n"
          ]
        }
      ]
    },
    {
      "cell_type": "markdown",
      "source": [
        "## ii) PyTorch"
      ],
      "metadata": {
        "id": "EfRFPCggKcmF"
      }
    },
    {
      "cell_type": "code",
      "source": [
        "import torch\n",
        "import torch.nn as nn\n",
        "import torch.optim as optim\n",
        "import torchvision\n",
        "import torchvision.transforms as transforms\n",
        "from torch.utils.data import DataLoader\n",
        "import time\n",
        "import matplotlib.pyplot as plt\n",
        "import numpy as np\n",
        "\n",
        "print(\"\\n--- Project 5a: Simple Neural Network with PyTorch (MNIST) ---\")\n",
        "print(\"PyTorch version:\", torch.__version__)\n",
        "\n",
        "device = torch.device(\"cuda\" if torch.cuda.is_available() else \"cpu\")\n",
        "print(f\"Using device: {device}\")"
      ],
      "metadata": {
        "colab": {
          "base_uri": "https://localhost:8080/"
        },
        "id": "S-KoEfdOKoRL",
        "outputId": "d7a6ed95-fcc8-4f5c-e621-089f1b8fd616"
      },
      "execution_count": 58,
      "outputs": [
        {
          "output_type": "stream",
          "name": "stdout",
          "text": [
            "\n",
            "--- Project 5a: Simple Neural Network with PyTorch (MNIST) ---\n",
            "PyTorch version: 2.6.0+cu124\n",
            "Using device: cpu\n"
          ]
        }
      ]
    },
    {
      "cell_type": "markdown",
      "source": [
        "Creating the transformation pipeline\"\n",
        "\n",
        "Transformation pipeline:\n",
        "1. ToTensor(): Converts PIL Image or NumPy array to FloatTensor and scales pixels from [0, 255] to [0.0, 1.0]\n",
        "2. Normalize(mean, std): Normalizes tensor with mean and standard deviation.\n",
        "For MNIST, mean and std are approximately 0.1307 and 0.3081 respectively.\n",
        "3. Flatten(): Flattens the tensor from [1, 28, 28] to [784] (channel dimension is added by ToTensor)"
      ],
      "metadata": {
        "id": "_POiaTHhMJUs"
      }
    },
    {
      "cell_type": "code",
      "source": [
        "transform_pipeline = transforms.Compose([\n",
        "    transforms.ToTensor(),\n",
        "    transforms.Normalize((0.1307,), (0.3081,)),\n",
        "    transforms.Lambda(lambda x: torch.flatten(x))\n",
        "])\n"
      ],
      "metadata": {
        "id": "Ff-OQ6KQNoYf"
      },
      "execution_count": 46,
      "outputs": []
    },
    {
      "cell_type": "markdown",
      "source": [
        "Loading and Preparing MNIST Dataset"
      ],
      "metadata": {
        "id": "f4MH8X_FNvBG"
      }
    },
    {
      "cell_type": "code",
      "source": [
        "print(\"\\nStep 2: Loading and Preparing MNIST Dataset...\")\n",
        "\n",
        "train_dataset = torchvision.datasets.MNIST(root='./data',\n",
        "                                           train=True,\n",
        "                                           transform=transform_pipeline,\n",
        "                                           download=True)\n",
        "\n",
        "test_dataset = torchvision.datasets.MNIST(root='./data',\n",
        "                                          train=False,\n",
        "                                          transform=transform_pipeline,\n",
        "                                          download=True)\n",
        "\n",
        "print(f\"Number of training samples: {len(train_dataset)}\")\n",
        "print(f\"Number of test samples: {len(test_dataset)}\")\n",
        "\n",
        "batch_size_pytorch = 128\n",
        "\n",
        "train_loader = DataLoader(dataset=train_dataset,\n",
        "                          batch_size=batch_size_pytorch,\n",
        "                          shuffle=True)\n",
        "\n",
        "test_loader = DataLoader(dataset=test_dataset,\n",
        "                         batch_size=batch_size_pytorch,\n",
        "                         shuffle=False)\n",
        "\n",
        "dataiter = iter(train_loader)\n",
        "images, labels = next(dataiter)\n",
        "print(f\"\\nShape of one batch of images: {images.shape}\")\n",
        "print(f\"Shape of one batch of labels: {labels.shape}\")\n",
        "\n",
        "print(\"\\nPyTorch DataLoaders created.\")\n",
        "\n",
        "def imshow(img):\n",
        "    img = img * 0.3081 + 0.1307\n",
        "    npimg = img.numpy()\n",
        "    plt.imshow(np.transpose(npimg.reshape(1, 28, 28), (1, 2, 0)), cmap='gray')\n",
        "    plt.show()\n",
        "imshow(images[0])\n",
        "print(f\"Label: {labels[0]}\")"
      ],
      "metadata": {
        "colab": {
          "base_uri": "https://localhost:8080/",
          "height": 604
        },
        "id": "wkQSmwWaLVVL",
        "outputId": "daf6ef79-ea4c-47f4-f168-3081867c6eed"
      },
      "execution_count": 59,
      "outputs": [
        {
          "output_type": "stream",
          "name": "stdout",
          "text": [
            "\n",
            "Step 2: Loading and Preparing MNIST Dataset...\n",
            "Number of training samples: 60000\n",
            "Number of test samples: 10000\n",
            "\n",
            "Shape of one batch of images: torch.Size([128, 784])\n",
            "Shape of one batch of labels: torch.Size([128])\n",
            "\n",
            "PyTorch DataLoaders created.\n"
          ]
        },
        {
          "output_type": "display_data",
          "data": {
            "text/plain": [
              "<Figure size 640x480 with 1 Axes>"
            ],
            "image/png": "[encoded data removed]"
          },
          "metadata": {}
        },
        {
          "output_type": "stream",
          "name": "stdout",
          "text": [
            "Label: 1\n"
          ]
        }
      ]
    },
    {
      "cell_type": "markdown",
      "source": [
        "Building the Dense Neural Network Model"
      ],
      "metadata": {
        "id": "jezQh8nJOe6Z"
      }
    },
    {
      "cell_type": "code",
      "source": [
        "import torch.nn as nn\n",
        "import torch.nn.functional as F\n",
        "\n",
        "print(\"\\nStep 3: Building the Dense Neural Network Model ...\")\n",
        "\n",
        "input_size = 784\n",
        "hidden_size_1 = 128\n",
        "hidden_size_2 = 64\n",
        "num_classes = 10\n",
        "\n",
        "class NeuralNet(nn.Module):\n",
        "    def __init__(self, input_size, hidden_size_1, hidden_size_2, num_classes):\n",
        "        super(NeuralNet, self).__init__()\n",
        "        self.fc1 = nn.Linear(input_size, hidden_size_1)\n",
        "        self.relu1 = nn.ReLU()\n",
        "        self.fc2 = nn.Linear(hidden_size_1, hidden_size_2)\n",
        "        self.relu2 = nn.ReLU()\n",
        "        self.fc3 = nn.Linear(hidden_size_2, num_classes)\n",
        "\n",
        "    def forward(self, x):\n",
        "        out = self.fc1(x)\n",
        "        out = self.relu1(out)\n",
        "        out = self.fc2(out)\n",
        "        out = self.relu2(out)\n",
        "        out = self.fc3(out)\n",
        "        return out\n",
        "\n",
        "model_pytorch = NeuralNet(input_size, hidden_size_1, hidden_size_2, num_classes)\n",
        "\n",
        "model_pytorch.to(device)\n",
        "\n",
        "print(\"\\nModel Structure:\")\n",
        "print(model_pytorch)\n",
        "\n",
        "total_params = sum(p.numel() for p in model_pytorch.parameters() if p.requires_grad)\n",
        "print(f\"\\nTotal trainable parameters: {total_params}\")\n",
        "\n",
        "print(\"\\nPyTorch Model built successfully.\")"
      ],
      "metadata": {
        "colab": {
          "base_uri": "https://localhost:8080/"
        },
        "id": "Pateft3pOcGl",
        "outputId": "7f090bea-52de-443a-9b32-59a3ef6f348b"
      },
      "execution_count": 60,
      "outputs": [
        {
          "output_type": "stream",
          "name": "stdout",
          "text": [
            "\n",
            "Step 3: Building the Dense Neural Network Model ...\n",
            "\n",
            "Model Structure:\n",
            "NeuralNet(\n",
            "  (fc1): Linear(in_features=784, out_features=128, bias=True)\n",
            "  (relu1): ReLU()\n",
            "  (fc2): Linear(in_features=128, out_features=64, bias=True)\n",
            "  (relu2): ReLU()\n",
            "  (fc3): Linear(in_features=64, out_features=10, bias=True)\n",
            ")\n",
            "\n",
            "Total trainable parameters: 109386\n",
            "\n",
            "PyTorch Model built successfully.\n"
          ]
        }
      ]
    },
    {
      "cell_type": "markdown",
      "source": [
        "Defining Loss Function and Optimizer"
      ],
      "metadata": {
        "id": "8vnFAPN6PuAA"
      }
    },
    {
      "cell_type": "code",
      "source": [
        "import torch.optim as optim\n",
        "\n",
        "print(\"\\nStep 4: Defining Loss Function and Optimizer ...\")\n",
        "\n",
        "criterion = nn.CrossEntropyLoss()\n",
        "\n",
        "learning_rate = 0.001\n",
        "optimizer = optim.Adam(model_pytorch.parameters(), lr=learning_rate)\n",
        "\n",
        "print(f\"Loss function: {type(criterion).__name__}\")\n",
        "print(f\"Optimizer: {type(optimizer).__name__} (lr={learning_rate})\")\n",
        "\n",
        "print(\"\\nLoss and optimizer defined.\")"
      ],
      "metadata": {
        "colab": {
          "base_uri": "https://localhost:8080/"
        },
        "id": "CmaMpB6qPnYj",
        "outputId": "3e397167-202a-4e91-ac99-ff9db78dfc8a"
      },
      "execution_count": 61,
      "outputs": [
        {
          "output_type": "stream",
          "name": "stdout",
          "text": [
            "\n",
            "Step 4: Defining Loss Function and Optimizer ...\n",
            "Loss function: CrossEntropyLoss\n",
            "Optimizer: Adam (lr=0.001)\n",
            "\n",
            "Loss and optimizer defined.\n"
          ]
        }
      ]
    },
    {
      "cell_type": "markdown",
      "source": [
        "Training the Model"
      ],
      "metadata": {
        "id": "DhTLqbhAQBjJ"
      }
    },
    {
      "cell_type": "code",
      "source": [
        "import time\n",
        "\n",
        "print(\"\\nStep 5: Training the Model ...\")\n",
        "\n",
        "num_epochs = 10\n",
        "n_total_steps = len(train_loader)\n",
        "\n",
        "train_losses = []\n",
        "train_accuracies = []\n",
        "\n",
        "start_time = time.time()\n",
        "\n",
        "for epoch in range(num_epochs):\n",
        "    running_loss = 0.0\n",
        "    correct_predictions = 0\n",
        "    total_samples = 0\n",
        "\n",
        "    model_pytorch.train()\n",
        "\n",
        "    for i, (images, labels) in enumerate(train_loader):\n",
        "        images = images.to(device)\n",
        "        labels = labels.to(device)\n",
        "\n",
        "        outputs = model_pytorch(images)\n",
        "\n",
        "        loss = criterion(outputs, labels)\n",
        "\n",
        "        optimizer.zero_grad()\n",
        "        loss.backward()\n",
        "\n",
        "        optimizer.step()\n",
        "\n",
        "        running_loss += loss.item() * images.size(0)\n",
        "\n",
        "        _, predicted_labels = torch.max(outputs.data, 1)\n",
        "        total_samples += labels.size(0)\n",
        "        correct_predictions += (predicted_labels == labels).sum().item()\n",
        "\n",
        "        if (i+1) % 100 == 0:\n",
        "            print (f'Epoch [{epoch+1}/{num_epochs}], Step [{i+1}/{n_total_steps}], Loss: {loss.item():.4f}')\n",
        "\n",
        "    epoch_loss = running_loss / total_samples\n",
        "    epoch_acc = correct_predictions / total_samples\n",
        "    train_losses.append(epoch_loss)\n",
        "    train_accuracies.append(epoch_acc)\n",
        "\n",
        "    print(f'Epoch [{epoch+1}/{num_epochs}], Loss: {epoch_loss:.4f}, Accuracy: {epoch_acc:.4f}')\n",
        "\n",
        "\n",
        "train_time_pytorch = time.time() - start_time\n",
        "print(f\"\\nTraining completed in {train_time_pytorch:.2f} seconds.\")\n",
        "print(\"\\nTraining history (accuracy per epoch):\", [f\"{acc:.4f}\" for acc in train_accuracies])"
      ],
      "metadata": {
        "colab": {
          "base_uri": "https://localhost:8080/"
        },
        "id": "2bmfWy5xP8Gx",
        "outputId": "431474dd-fa5b-41f7-c6a0-4020d798d48b"
      },
      "execution_count": 62,
      "outputs": [
        {
          "output_type": "stream",
          "name": "stdout",
          "text": [
            "\n",
            "Step 5: Training the Model ...\n",
            "Epoch [1/10], Step [100/469], Loss: 0.4594\n",
            "Epoch [1/10], Step [200/469], Loss: 0.2215\n",
            "Epoch [1/10], Step [300/469], Loss: 0.2637\n",
            "Epoch [1/10], Step [400/469], Loss: 0.1753\n",
            "Epoch [1/10], Loss: 0.3271, Accuracy: 0.9047\n",
            "Epoch [2/10], Step [100/469], Loss: 0.1073\n",
            "Epoch [2/10], Step [200/469], Loss: 0.1365\n",
            "Epoch [2/10], Step [300/469], Loss: 0.1160\n",
            "Epoch [2/10], Step [400/469], Loss: 0.1580\n",
            "Epoch [2/10], Loss: 0.1351, Accuracy: 0.9596\n",
            "Epoch [3/10], Step [100/469], Loss: 0.0726\n",
            "Epoch [3/10], Step [200/469], Loss: 0.1083\n",
            "Epoch [3/10], Step [300/469], Loss: 0.0515\n",
            "Epoch [3/10], Step [400/469], Loss: 0.0836\n",
            "Epoch [3/10], Loss: 0.0941, Accuracy: 0.9710\n",
            "Epoch [4/10], Step [100/469], Loss: 0.0337\n",
            "Epoch [4/10], Step [200/469], Loss: 0.0927\n",
            "Epoch [4/10], Step [300/469], Loss: 0.1217\n",
            "Epoch [4/10], Step [400/469], Loss: 0.1060\n",
            "Epoch [4/10], Loss: 0.0713, Accuracy: 0.9778\n",
            "Epoch [5/10], Step [100/469], Loss: 0.0355\n",
            "Epoch [5/10], Step [200/469], Loss: 0.0471\n",
            "Epoch [5/10], Step [300/469], Loss: 0.0333\n",
            "Epoch [5/10], Step [400/469], Loss: 0.1068\n",
            "Epoch [5/10], Loss: 0.0563, Accuracy: 0.9823\n",
            "Epoch [6/10], Step [100/469], Loss: 0.1112\n",
            "Epoch [6/10], Step [200/469], Loss: 0.0246\n",
            "Epoch [6/10], Step [300/469], Loss: 0.0637\n",
            "Epoch [6/10], Step [400/469], Loss: 0.0157\n",
            "Epoch [6/10], Loss: 0.0437, Accuracy: 0.9857\n",
            "Epoch [7/10], Step [100/469], Loss: 0.0136\n",
            "Epoch [7/10], Step [200/469], Loss: 0.0352\n",
            "Epoch [7/10], Step [300/469], Loss: 0.0159\n",
            "Epoch [7/10], Step [400/469], Loss: 0.0176\n",
            "Epoch [7/10], Loss: 0.0368, Accuracy: 0.9884\n",
            "Epoch [8/10], Step [100/469], Loss: 0.0284\n",
            "Epoch [8/10], Step [200/469], Loss: 0.0576\n",
            "Epoch [8/10], Step [300/469], Loss: 0.0239\n",
            "Epoch [8/10], Step [400/469], Loss: 0.0189\n",
            "Epoch [8/10], Loss: 0.0295, Accuracy: 0.9904\n",
            "Epoch [9/10], Step [100/469], Loss: 0.0502\n",
            "Epoch [9/10], Step [200/469], Loss: 0.0076\n",
            "Epoch [9/10], Step [300/469], Loss: 0.0094\n",
            "Epoch [9/10], Step [400/469], Loss: 0.0058\n",
            "Epoch [9/10], Loss: 0.0263, Accuracy: 0.9915\n",
            "Epoch [10/10], Step [100/469], Loss: 0.0391\n",
            "Epoch [10/10], Step [200/469], Loss: 0.0185\n",
            "Epoch [10/10], Step [300/469], Loss: 0.0365\n",
            "Epoch [10/10], Step [400/469], Loss: 0.0059\n",
            "Epoch [10/10], Loss: 0.0222, Accuracy: 0.9930\n",
            "\n",
            "Training completed in 162.88 seconds.\n",
            "\n",
            "Training history (accuracy per epoch): ['0.9047', '0.9596', '0.9710', '0.9778', '0.9823', '0.9857', '0.9884', '0.9904', '0.9915', '0.9930']\n"
          ]
        }
      ]
    },
    {
      "cell_type": "markdown",
      "source": [
        "Evaluating the Model on the Test Set"
      ],
      "metadata": {
        "id": "iRhMPnMbR-9E"
      }
    },
    {
      "cell_type": "code",
      "source": [
        "print(\"\\nStep 6: Evaluating the Model on the Test Set ...\")\n",
        "\n",
        "model_pytorch.eval()\n",
        "\n",
        "with torch.no_grad():\n",
        "    n_correct = 0\n",
        "    n_samples = 0\n",
        "    test_loss = 0.0\n",
        "    for images, labels in test_loader:\n",
        "        images = images.to(device)\n",
        "        labels = labels.to(device)\n",
        "\n",
        "        outputs = model_pytorch(images)\n",
        "\n",
        "        loss = criterion(outputs, labels)\n",
        "        test_loss += loss.item() * images.size(0)\n",
        "\n",
        "        _, predicted = torch.max(outputs.data, 1)\n",
        "        n_samples += labels.size(0)\n",
        "        n_correct += (predicted == labels).sum().item()\n",
        "\n",
        "final_test_acc = n_correct / n_samples\n",
        "final_test_loss = test_loss / n_samples\n",
        "\n",
        "print(f'Accuracy of the network on the {n_samples} test images: {100 * final_test_acc:.2f} %')\n",
        "print(f'Average loss on the test images: {final_test_loss:.4f}')\n",
        "\n",
        "print(\"\\n--- Project 5 (PyTorch Version) Complete ---\")\n",
        "\n",
        "print(f\"\\nComparison: PyTorch Test Accuracy: {final_test_acc:.4f}, TensorFlow Test Accuracy: ~0.9804\")"
      ],
      "metadata": {
        "colab": {
          "base_uri": "https://localhost:8080/"
        },
        "id": "aGFhmqodR8NG",
        "outputId": "f568f03b-5886-4197-d552-ce34c4757c85"
      },
      "execution_count": 63,
      "outputs": [
        {
          "output_type": "stream",
          "name": "stdout",
          "text": [
            "\n",
            "Step 6: Evaluating the Model on the Test Set ...\n",
            "Accuracy of the network on the 10000 test images: 97.69 %\n",
            "Average loss on the test images: 0.0828\n",
            "\n",
            "--- Project 5 (PyTorch Version) Complete ---\n",
            "\n",
            "Comparison: PyTorch Test Accuracy: 0.9769, TensorFlow Test Accuracy: ~0.9804\n"
          ]
        }
      ]
    },
    {
      "cell_type": "markdown",
      "source": [
        "## 5b  OpenCV"
      ],
      "metadata": {
        "id": "Bakj9MniYxMn"
      }
    },
    {
      "cell_type": "code",
      "source": [
        "!pip install opencv-python-headless --quiet"
      ],
      "metadata": {
        "id": "Z86-xuvXZDxp"
      },
      "execution_count": 64,
      "outputs": []
    },
    {
      "cell_type": "markdown",
      "source": [
        "Selecting and Preparing an MNIST Image"
      ],
      "metadata": {
        "id": "EJTDHkyWcxDi"
      }
    },
    {
      "cell_type": "code",
      "source": [
        "import cv2\n",
        "import numpy as np\n",
        "import matplotlib.pyplot as plt\n",
        "\n",
        "print(\"\\n--- Project 5b: Basic OpenCV Demo ---\")\n",
        "print(\"OpenCV version:\", cv2.__version__)\n",
        "\n",
        "print(\"\\nStep 2: Selecting and Preparing an MNIST Image...\")\n",
        "\n",
        "image_index = 0\n",
        "try:\n",
        "    original_image_normalized = x_train_mnist[image_index]\n",
        "\n",
        "    image_for_opencv = (original_image_normalized * 255).astype(np.uint8)\n",
        "\n",
        "    print(f\"Selected MNIST image at index {image_index}.\")\n",
        "    print(f\"Image shape for OpenCV: {image_for_opencv.shape}\")\n",
        "    print(f\"Image data type: {image_for_opencv.dtype}\")\n",
        "    print(f\"Pixel value range: {image_for_opencv.min()} - {image_for_opencv.max()}\")\n",
        "\n",
        "    plt.figure(figsize=(3, 3))\n",
        "    plt.imshow(image_for_opencv, cmap='gray')\n",
        "    plt.title(f\"Original MNIST Digit (Index {image_index})\")\n",
        "    plt.show()\n",
        "\n",
        "except NameError:\n",
        "    print(\"Error: 'x_train_mnist' not found. Please re-run the cell in Project 5\")\n",
        "    print(\"where the MNIST data was loaded using keras.datasets.mnist.load_data().\")\n",
        "    image_for_opencv = None\n",
        "except Exception as e:\n",
        "    print(f\"An error occurred: {e}\")\n",
        "    image_for_opencv = None\n",
        "\n",
        "print(\"\\nImage selected and prepared.\")"
      ],
      "metadata": {
        "colab": {
          "base_uri": "https://localhost:8080/",
          "height": 505
        },
        "id": "EGjaBlEdbFA3",
        "outputId": "a71147a6-1229-476c-f973-3fd15fd3bfd1"
      },
      "execution_count": 66,
      "outputs": [
        {
          "output_type": "stream",
          "name": "stdout",
          "text": [
            "\n",
            "--- Project 5b: Basic OpenCV Demo ---\n",
            "OpenCV version: 4.11.0\n",
            "\n",
            "Step 2: Selecting and Preparing an MNIST Image...\n",
            "Selected MNIST image at index 0.\n",
            "Image shape for OpenCV: (28, 28)\n",
            "Image data type: uint8\n",
            "Pixel value range: 0 - 255\n"
          ]
        },
        {
          "output_type": "display_data",
          "data": {
            "text/plain": [
              "<Figure size 300x300 with 1 Axes>"
            ],
            "image/png": "[encoded data removed]"
          },
          "metadata": {}
        },
        {
          "output_type": "stream",
          "name": "stdout",
          "text": [
            "\n",
            "Image selected and prepared.\n"
          ]
        }
      ]
    },
    {
      "cell_type": "markdown",
      "source": [
        "Applying Canny Edge Detection"
      ],
      "metadata": {
        "id": "Ti9feY_Zc2uw"
      }
    },
    {
      "cell_type": "code",
      "source": [
        "print(\"\\nStep 3: Applying Canny Edge Detection...\")\n",
        "\n",
        "if image_for_opencv is not None:\n",
        "    threshold1 = 50\n",
        "    threshold2 = 150\n",
        "\n",
        "    edges = cv2.Canny(image_for_opencv, threshold1, threshold2)\n",
        "\n",
        "    print(f\"Canny edge detection applied with thresholds: {threshold1}, {threshold2}\")\n",
        "    print(f\"Shape of edges image: {edges.shape}\")\n",
        "    print(f\"Data type of edges image: {edges.dtype}\")\n",
        "\n",
        "else:\n",
        "    print(\"Skipping edge detection because the image was not loaded/prepared correctly.\")\n",
        "    edges = None\n",
        "\n",
        "print(\"\\nEdge detection step complete.\")"
      ],
      "metadata": {
        "colab": {
          "base_uri": "https://localhost:8080/"
        },
        "id": "JTOtvPPfcpxU",
        "outputId": "915c36a9-4b14-4574-e10b-206abca39dfa"
      },
      "execution_count": 68,
      "outputs": [
        {
          "output_type": "stream",
          "name": "stdout",
          "text": [
            "\n",
            "Step 3: Applying Canny Edge Detection...\n",
            "Canny edge detection applied with thresholds: 50, 150\n",
            "Shape of edges image: (28, 28)\n",
            "Data type of edges image: uint8\n",
            "\n",
            "Edge detection step complete.\n"
          ]
        }
      ]
    },
    {
      "cell_type": "markdown",
      "source": [
        "Displaying Original Image and Edges"
      ],
      "metadata": {
        "id": "qNl3rw2Eexj3"
      }
    },
    {
      "cell_type": "code",
      "source": [
        "print(\"\\nStep 4: Displaying Original Image and Edges...\")\n",
        "\n",
        "if image_for_opencv is not None and edges is not None:\n",
        "    plt.figure(figsize=(6, 3))\n",
        "\n",
        "    plt.subplot(1, 2, 1)\n",
        "    plt.imshow(image_for_opencv, cmap='gray')\n",
        "    plt.title(f'Original (Index {image_index})')\n",
        "    plt.axis('off')\n",
        "\n",
        "    plt.subplot(1, 2, 2)\n",
        "    plt.imshow(edges, cmap='gray')\n",
        "    plt.title('Canny Edges')\n",
        "    plt.axis('off')\n",
        "\n",
        "    plt.tight_layout()\n",
        "    plt.show()\n",
        "else:\n",
        "    print(\"Cannot display images because original or edges image is missing.\")\n",
        "\n",
        "print(\"\\nDisplay complete.\")\n",
        "print(\"\\n--- Project 5b (OpenCV Demo) Complete ---\")"
      ],
      "metadata": {
        "colab": {
          "base_uri": "https://localhost:8080/",
          "height": 420
        },
        "id": "SxSnizrFeo4w",
        "outputId": "32532c95-257b-432c-fd59-7f59e317b6bb"
      },
      "execution_count": 69,
      "outputs": [
        {
          "output_type": "stream",
          "name": "stdout",
          "text": [
            "\n",
            "Step 4: Displaying Original Image and Edges...\n"
          ]
        },
        {
          "output_type": "display_data",
          "data": {
            "text/plain": [
              "<Figure size 600x300 with 2 Axes>"
            ],
            "image/png": "[encoded data removed]"
          },
          "metadata": {}
        },
        {
          "output_type": "stream",
          "name": "stdout",
          "text": [
            "\n",
            "Display complete.\n",
            "\n",
            "--- Project 5b (OpenCV Demo) Complete ---\n"
          ]
        }
      ]
    }
  ]
}